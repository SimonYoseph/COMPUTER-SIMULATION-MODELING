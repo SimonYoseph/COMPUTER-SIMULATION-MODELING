{
 "cells": [
  {
   "cell_type": "code",
   "execution_count": 42,
   "id": "5dedf35f",
   "metadata": {},
   "outputs": [
    {
     "name": "stdout",
     "output_type": "stream",
     "text": [
      "\n",
      "Sentiment Classification Counts:\n",
      "sentiment\n",
      "Neutral     360\n",
      "Positive      3\n",
      "Negative      2\n",
      "Name: count, dtype: int64\n"
     ]
    }
   ],
   "source": [
    "import pandas as pd\n",
    "\n",
    "# Load the data\n",
    "url = \"http://hedonometer.org/data/word-vectors/vacc/sumhapps.csv\"\n",
    "hedonometer_data = pd.read_csv(url)\n",
    "\n",
    "# Convert the 'date' column to datetime format\n",
    "hedonometer_data['date'] = pd.to_datetime(hedonometer_data['date'])\n",
    "\n",
    "# Filter data for the year 2018\n",
    "hedonometer_data_2018 = hedonometer_data[(hedonometer_data['date'].dt.year == 2018)]\n",
    "\n",
    "# Define thresholds for positive, negative, and neutral classifications\n",
    "positive_threshold = 6.1\n",
    "negative_threshold = 5.9\n",
    "\n",
    "# Classify sentiment based on thresholds\n",
    "def classify_sentiment(value):\n",
    "    if value > positive_threshold:\n",
    "        return \"Positive\"\n",
    "    elif value < negative_threshold:\n",
    "        return \"Negative\"\n",
    "    else:\n",
    "        return \"Neutral\"\n",
    "\n",
    "# Apply sentiment classification using .loc with a copy of the DataFrame slice\n",
    "hedonometer_data_2018 = hedonometer_data_2018.copy()\n",
    "hedonometer_data_2018.loc[:, 'sentiment'] = hedonometer_data_2018['value'].apply(classify_sentiment)\n",
    "\n",
    "# Display the counts of each sentiment classification\n",
    "print(\"\\nSentiment Classification Counts:\")\n",
    "print(hedonometer_data_2018['sentiment'].value_counts())\n"
   ]
  },
  {
   "cell_type": "code",
   "execution_count": 39,
   "id": "e6bc282f",
   "metadata": {},
   "outputs": [
    {
     "name": "stdout",
     "output_type": "stream",
     "text": [
      "Transition Probability Matrix (X):\n",
      "sentiment\n",
      "Neutral     0.986301\n",
      "Positive    0.008219\n",
      "Negative    0.005479\n",
      "Name: proportion, dtype: float64\n",
      "\n",
      "Initial Probabilities (π):\n",
      "sentiment\n",
      "Neutral     0.986301\n",
      "Positive    0.008219\n",
      "Negative    0.005479\n",
      "Name: proportion, dtype: float64\n"
     ]
    }
   ],
   "source": [
    "import numpy as np\n",
    "\n",
    "# Define the states (sentiment labels)\n",
    "states = ['Positive', 'Negative', 'Neutral']\n",
    "\n",
    "# Calculate transition probabilities\n",
    "transition_matrix = hedonometer_data_2018['sentiment'].value_counts(normalize=True)\n",
    "\n",
    "# Calculate initial probabilities\n",
    "initial_probs = hedonometer_data_2018['sentiment'].value_counts(normalize=True)\n",
    "\n",
    "# Display transition probability matrix (X)\n",
    "print(\"Transition Probability Matrix (X):\")\n",
    "print(transition_matrix)\n",
    "\n",
    "# Display initial probabilities (π)\n",
    "print(\"\\nInitial Probabilities (π):\")\n",
    "print(initial_probs)\n"
   ]
  },
  {
   "cell_type": "code",
   "execution_count": 44,
   "id": "b0006046",
   "metadata": {},
   "outputs": [
    {
     "name": "stdout",
     "output_type": "stream",
     "text": [
      "Stationary Distribution (π'):  [1 0]\n"
     ]
    }
   ],
   "source": [
    "import numpy as np\n",
    "\n",
    "# Define the transition probability matrix (X)\n",
    "X = np.array([[0, 1], [1, 0]])\n",
    "\n",
    "# Define the initial probabilities (π)\n",
    "pi = np.array([0, 1])\n",
    "\n",
    "# Compute the stationary distribution by repeatedly applying the transition matrix\n",
    "pi_prime = pi @ X\n",
    "for _ in range(10):\n",
    "    pi_prime = pi_prime @ X\n",
    "\n",
    "print(\"Stationary Distribution (π'): \", pi_prime)\n"
   ]
  },
  {
   "cell_type": "code",
   "execution_count": null,
   "id": "46dd742c",
   "metadata": {},
   "outputs": [],
   "source": []
  }
 ],
 "metadata": {
  "kernelspec": {
   "display_name": "Python 3 (ipykernel)",
   "language": "python",
   "name": "python3"
  },
  "language_info": {
   "codemirror_mode": {
    "name": "ipython",
    "version": 3
   },
   "file_extension": ".py",
   "mimetype": "text/x-python",
   "name": "python",
   "nbconvert_exporter": "python",
   "pygments_lexer": "ipython3",
   "version": "3.11.5"
  }
 },
 "nbformat": 4,
 "nbformat_minor": 5
}
