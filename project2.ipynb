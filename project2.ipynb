{
 "cells": [
  {
   "cell_type": "code",
   "execution_count": 5,
   "id": "2be7c70a",
   "metadata": {},
   "outputs": [
    {
     "name": "stdout",
     "output_type": "stream",
     "text": [
      " when x=0.2, alpha=2, beta=5\n",
      " Beta PDF: 2.4576000000000007\n",
      "\n",
      " when x=0.6, alpha=5, beta=1\n",
      " Beta PDF: 0.6479999999999999\n",
      "\n",
      " when x=0.9, alpha=0.5, beta=0.5\n",
      " Beta PDF: 1.0610329539459693\n",
      "\n",
      " when x=0.8, alpha=2, beta=2\n",
      " Beta PDF: 0.9599999999999999\n",
      "\n"
     ]
    }
   ],
   "source": [
    "import numpy as np\n",
    "from scipy.special import beta as beta_func\n",
    "\n",
    "\n",
    "def betaPDF(x, alpha, beta):\n",
    "    numer = x**(alpha - 1) * (1 - x)**(beta - 1)\n",
    "    denom = beta_func(alpha, beta)\n",
    "    return numer / denom\n",
    "\n",
    "# Define parameter arguments\n",
    "parameters = [\n",
    "    (0.2, 2, 5),\n",
    "    (0.6, 5, 1),\n",
    "    (0.9, 0.5, 0.5),\n",
    "    (0.8, 2, 2)\n",
    "]\n",
    "\n",
    "# Compute and print PDF values\n",
    "for x, alpha, beta in parameters:\n",
    "    pdf = betaPDF(x, alpha, beta)\n",
    "    print(f\" when x={x}, alpha={alpha}, beta={beta}\")\n",
    "    print(f\" Beta PDF: {pdf}\")\n",
    "    print()      #add space between\n"
   ]
  },
  {
   "cell_type": "code",
   "execution_count": 6,
   "id": "a6ac3969",
   "metadata": {},
   "outputs": [
    {
     "name": "stdout",
     "output_type": "stream",
     "text": [
      " when x=0.2, alpha=1, beta=1\n",
      " Beta PDF: 1.0\n",
      "\n",
      " when x=0.6, alpha=1, beta=1\n",
      " Beta PDF: 1.0\n",
      "\n",
      " when x=0.9, alpha=1, beta=1\n",
      " Beta PDF: 1.0\n",
      "\n",
      " when x=0.8, alpha=1, beta=1\n",
      " Beta PDF: 1.0\n",
      "\n"
     ]
    }
   ],
   "source": [
    "import numpy as np\n",
    "from scipy.special import beta as beta_func\n",
    "\n",
    "def betaPDF(x, alpha, beta):\n",
    "    numer = x**(alpha - 1) * (1 - x)**(beta - 1)\n",
    "    denom = beta_func(alpha, beta)\n",
    "    return numer / denom\n",
    "\n",
    "# Define parameter arguments\n",
    "parameters = [\n",
    "    (0.2, 1, 1),\n",
    "    (0.6, 1, 1),\n",
    "    (0.9, 1, 1),\n",
    "    (0.8, 1, 1)\n",
    "]\n",
    "\n",
    "# Compute and print PDF values\n",
    "for x, alpha, beta in parameters:\n",
    "    pdf = betaPDF(x, alpha, beta)\n",
    "    print(f\" when x={x}, alpha={alpha}, beta={beta}\")\n",
    "    print(f\" Beta PDF: {pdf}\")\n",
    "    print()      #add space between\n"
   ]
  },
  {
   "cell_type": "markdown",
   "id": "a1b6cb26",
   "metadata": {},
   "source": [
    "A horizontal line at height 1, indicating that all values in the interval [0, 1] have the same probability density. "
   ]
  }
 ],
 "metadata": {
  "kernelspec": {
   "display_name": "Python 3 (ipykernel)",
   "language": "python",
   "name": "python3"
  },
  "language_info": {
   "codemirror_mode": {
    "name": "ipython",
    "version": 3
   },
   "file_extension": ".py",
   "mimetype": "text/x-python",
   "name": "python",
   "nbconvert_exporter": "python",
   "pygments_lexer": "ipython3",
   "version": "3.11.5"
  }
 },
 "nbformat": 4,
 "nbformat_minor": 5
}
