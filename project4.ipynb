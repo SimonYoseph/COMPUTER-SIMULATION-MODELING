{
 "cells": [
  {
   "cell_type": "markdown",
   "id": "b64842d2",
   "metadata": {},
   "source": [
    "# 1"
   ]
  },
  {
   "cell_type": "code",
   "execution_count": 45,
   "id": "701bc793",
   "metadata": {},
   "outputs": [
    {
     "name": "stdout",
     "output_type": "stream",
     "text": [
      "For n = 10:\n",
      "Mean (μ): 0.5682735923058765 , as it represents the midpoint of the uniform distribution.\n",
      "Standard Deviation (σ): 0.2796204562235235\n",
      "\n",
      "For n = 500:\n",
      "Mean (μ): 0.4848741037890788 , the mean for n = 500 should be closer to 0.5 compared to the mean for n = 10\n",
      "Standard Deviation (σ): 0.2948151582555259 closer to 0.29 compared to the standard deviation for n = 10.\n",
      "\n",
      "As n → ∞:\n",
      "Convergence of Mean (μ): The sample mean converges to the population mean and becomes a more accurate estimate\n",
      "Convergence of Standard Deviation (σ): The sample standard deviation converges to the population standard deviation and becomes a more accurate estimate.\n"
     ]
    }
   ],
   "source": [
    "import numpy as np \n",
    "\n",
    "# Generate 10 random nums\n",
    "num10 = 10\n",
    "random_nums10 = np.random.rand(num10)\n",
    "\n",
    "# Calculate mean and standard dev, n = 10\n",
    "mean10 = np.mean(random_nums10)\n",
    "standDev10 = np.std(random_nums10)\n",
    "\n",
    "print(\"For n = 10:\")\n",
    "print(\"Mean (μ):\", mean10, \", as it represents the midpoint of the uniform distribution.\")\n",
    "print(\"Standard Deviation (σ):\", standDev10)\n",
    "print(f\"\")\n",
    "\n",
    "# Generate 500 random nums\n",
    "num500 = 500\n",
    "random_nums500 = np.random.rand(num500)\n",
    "\n",
    "mean500 = np.mean(random_nums500)\n",
    "standDev500 = np.std(random_nums500)\n",
    "\n",
    "print(\"For n = 500:\")\n",
    "print(\"Mean (μ):\", mean500, \", the mean for n = 500 should be closer to 0.5 compared to the mean for n = 10\")\n",
    "print(\"Standard Deviation (σ):\", standDev500, \"closer to 0.29 compared to the standard deviation for n = 10.\")\n",
    "\n",
    "\n",
    "\n",
    "print(\"\\nAs n → ∞:\")\n",
    "print(\"Convergence of Mean (μ): The sample mean converges to the population mean and becomes a more accurate estimate\")\n",
    "print(\"Convergence of Standard Deviation (σ): The sample standard deviation converges to the population standard deviation and becomes a more accurate estimate.\")\n"
   ]
  },
  {
   "cell_type": "markdown",
   "id": "89b31fe8",
   "metadata": {},
   "source": [
    "# 2"
   ]
  },
  {
   "cell_type": "code",
   "execution_count": 44,
   "id": "5456a779",
   "metadata": {},
   "outputs": [
    {
     "name": "stdout",
     "output_type": "stream",
     "text": [
      "First 15 random numbers using Middle-Square Method with seed 5272 : [0.7939, 0.0277, 0.0767, 0.5882, 0.5979, 0.7484, 0.0102, 0.0104, 0.0108, 0.0116, 0.0134, 0.0179, 0.032, 0.1024, 0.0485]\n"
     ]
    }
   ],
   "source": [
    "n = 15\n",
    "s = 5272\n",
    "random_numbers = []\n",
    "\n",
    "for i in range(n):\n",
    "    s2 = s ** 2\n",
    "    s_str = str(s2).zfill(8)  # Ensure it has 8 digits\n",
    "    middleDigits = s_str[2:6]  # Take the middle 4 digits\n",
    "    s = int(middleDigits)\n",
    "    random_numbers.append(s / 10000)  # Normalize to a number between 0 and 1\n",
    "\n",
    "print(\"First 15 random numbers using Middle-Square Method with seed\", 5272, \":\", random_numbers)"
   ]
  },
  {
   "cell_type": "markdown",
   "id": "e73b5eb9",
   "metadata": {},
   "source": [
    "# 3"
   ]
  },
  {
   "cell_type": "code",
   "execution_count": 43,
   "id": "585f8696",
   "metadata": {},
   "outputs": [
    {
     "name": "stdout",
     "output_type": "stream",
     "text": [
      "First 15 random numbers using Linear Congruential Method with seed 1234 : [0.7228450838010758, 0.8423431236296892, 0.31215087533928454, 0.002513724844902754, 0.30963006778620183, 0.11513046268373728, 0.7092668537516147, 0.8483259701170027, 0.3115327476989478, 0.3472495675086975, 0.7748830916825682, 0.661471666302532, 0.6023884487804025, 0.9261876111850142, 0.2879881889093667]\n"
     ]
    }
   ],
   "source": [
    "a = 134775813\n",
    "c = 1\n",
    "m = 2**32  \n",
    "X0 = 1234\n",
    "n = 15\n",
    "\n",
    "random_numbers = []\n",
    "\n",
    "Xn = X0\n",
    "for i in range(n):\n",
    "    Xn = (a * Xn + c) % m\n",
    "    random_numbers.append(Xn / m)  # Normalize to a number between 0 and 1\n",
    "\n",
    "print(\"First 15 random numbers using Linear Congruential Method with seed\", X0, \":\", random_numbers)"
   ]
  },
  {
   "cell_type": "markdown",
   "id": "a3d32da4",
   "metadata": {},
   "source": [
    "# 4"
   ]
  },
  {
   "cell_type": "code",
   "execution_count": 42,
   "id": "e9daba8d",
   "metadata": {},
   "outputs": [
    {
     "name": "stdout",
     "output_type": "stream",
     "text": [
      "For n = 10,000:\n",
      "Mean: 0.525615292282605\n",
      "\n",
      "For n = 100,000:\n",
      "Mean: 0.5543399343056782\n",
      "\n",
      "As n → ∞:\n",
      "Convergence of the sample–mean to δ: As the number of samples (n) increases towards infinity, the sample mean converges to the Euler–Mascheroni constant δ.\n"
     ]
    }
   ],
   "source": [
    "import math \n",
    "from numpy import random\n",
    "import matplotlib.pyplot as plt\n",
    "import statistics\n",
    "\n",
    "delta = 3\n",
    "em = 0.577215664\n",
    "\n",
    "def f(x):\n",
    "    return math.exp(-(x + math.exp(-x)))\n",
    "\n",
    "def random_coin(p):\n",
    "    unif = random.uniform(0, 1)\n",
    "    if unif >= p:\n",
    "        return 0\n",
    "    else:\n",
    "        return 1\n",
    "\n",
    "def metropolis_hastings(n, initial_x):\n",
    "    samples = [initial_x]\n",
    "    current_x = initial_x\n",
    "\n",
    "    for _ in range(n):\n",
    "        proposed_x = current_x + random.normal(0, 1)  # Propose a new sample using Gaussian proposal distribution\n",
    "        acceptance_ratio = f(proposed_x) / f(current_x)\n",
    "        \n",
    "        if random_coin(acceptance_ratio):\n",
    "            current_x = proposed_x\n",
    "        \n",
    "        samples.append(current_x)\n",
    "    \n",
    "    return samples[1:]  # Exclude initial value\n",
    "\n",
    "# Generate n = 10,000 random numbers\n",
    "n_1 = 10000\n",
    "samples_1 = metropolis_hastings(n_1, initial_x=0)\n",
    "\n",
    "# Calculate the mean of the generated numbers\n",
    "mean_1 = statistics.mean(samples_1)\n",
    "\n",
    "# Compare the mean to the Euler–Mascheroni constant\n",
    "print(\"For n = 10,000:\")\n",
    "print(\"Mean:\", mean_1)\n",
    "\n",
    "\n",
    "# same logic but with n = 100,000\n",
    "n_2 = 100000\n",
    "samples_2 = metropolis_hastings(n_2, initial_x=0)\n",
    "mean_2 = statistics.mean(samples_2)\n",
    "\n",
    "print(\"\\nFor n = 100,000:\")\n",
    "print(\"Mean:\", mean_2)\n",
    "\n",
    "# Convergence of the sample–mean to δ as n → ∞\n",
    "print(\"\\nAs n → ∞:\")\n",
    "print(\"Convergence of the sample–mean to δ: As the number of samples (n) increases towards infinity, the sample mean converges to the Euler–Mascheroni constant δ.\")\n"
   ]
  },
  {
   "cell_type": "code",
   "execution_count": null,
   "id": "60c466e9",
   "metadata": {},
   "outputs": [],
   "source": []
  }
 ],
 "metadata": {
  "kernelspec": {
   "display_name": "Python 3 (ipykernel)",
   "language": "python",
   "name": "python3"
  },
  "language_info": {
   "codemirror_mode": {
    "name": "ipython",
    "version": 3
   },
   "file_extension": ".py",
   "mimetype": "text/x-python",
   "name": "python",
   "nbconvert_exporter": "python",
   "pygments_lexer": "ipython3",
   "version": "3.11.5"
  }
 },
 "nbformat": 4,
 "nbformat_minor": 5
}
