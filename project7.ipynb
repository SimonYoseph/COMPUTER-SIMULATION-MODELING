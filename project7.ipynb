{
 "cells": [
  {
   "cell_type": "code",
   "execution_count": 20,
   "id": "c16d57b5",
   "metadata": {},
   "outputs": [
    {
     "data": {
      "application/vnd.jupyter.widget-view+json": {
       "model_id": "694495fdd4f940d296fc175aae758dda",
       "version_major": 2,
       "version_minor": 0
      },
      "text/plain": [
       "interactive(children=(FloatSlider(value=1.5, description='X Birth:', min=0.1), FloatSlider(value=1.2, descript…"
      ]
     },
     "metadata": {},
     "output_type": "display_data"
    },
    {
     "data": {
      "text/plain": [
       "<function __main__.lotka_volterra(alpha, beta, delta, gamma, X, Y, step=0.01, iters=4000)>"
      ]
     },
     "execution_count": 20,
     "metadata": {},
     "output_type": "execute_result"
    }
   ],
   "source": [
    "import ipywidgets as widgets\n",
    "import matplotlib.pyplot as plt\n",
    "from ipywidgets import interact\n",
    "\n",
    "def lotka_volterra(alpha, beta, delta, gamma, X, Y, step=0.01, iters=4000):\n",
    "    # starting populations\n",
    "    Xs = [X]\n",
    "    Ys = [Y]\n",
    "    \n",
    "    # differential equation yields different populations over-time\n",
    "    for t in range(iters):\n",
    "        X_ = Xs[t] + step * ((alpha * Xs[t]) - (beta * Xs[t] * Ys[t]))\n",
    "        Y_ = Ys[t] + step * ((delta * Xs[t] * Ys[t]) - (gamma * Ys[t]))\n",
    "        Xs.append(X_)\n",
    "        Ys.append(Y_)\n",
    "    \n",
    "    # graph the populations over-time\n",
    "    plt.plot(range(iters+1), Xs, label='Prey')\n",
    "    plt.plot(range(iters+1), Ys, label='Predator')\n",
    "    plt.xlabel(\"Time\")\n",
    "    plt.ylabel(\"Population Size\")\n",
    "    plt.legend()\n",
    "    plt.show()\n",
    "\n",
    "# define some UI widgets to represent parameter values\n",
    "alpha_widget = widgets.FloatSlider(min=0.1, value=1.5, description=\"X Birth:\")\n",
    "beta_widget = widgets.FloatSlider(min=0.1, value=1.2, description=\"X Death:\")\n",
    "delta_widget = widgets.FloatSlider(min=0.1, value=3, description=\"Y Birth:\")\n",
    "gamma_widget = widgets.FloatSlider(min=0.1, value=1.1, description=\"Y Death:\")\n",
    "X_widget = widgets.FloatText(value=3, description=\"X Population\")\n",
    "Y_widget = widgets.FloatText(value=1, description=\"Y Population:\")\n",
    "step_widget = widgets.FloatText(value=0.01, description=\"Step Size:\")\n",
    "time_widget = widgets.IntText(value=450, description=\"Iterations:\")\n",
    "\n",
    "# visualize\n",
    "interact(lotka_volterra,\n",
    "         alpha=alpha_widget,\n",
    "         beta=beta_widget,\n",
    "         delta=delta_widget,\n",
    "         gamma=gamma_widget,\n",
    "         X=X_widget,\n",
    "         Y=Y_widget,\n",
    "         step=step_widget,\n",
    "         iters=time_widget)\n"
   ]
  },
  {
   "cell_type": "code",
   "execution_count": null,
   "id": "a993cb92",
   "metadata": {},
   "outputs": [],
   "source": []
  }
 ],
 "metadata": {
  "kernelspec": {
   "display_name": "Python 3 (ipykernel)",
   "language": "python",
   "name": "python3"
  },
  "language_info": {
   "codemirror_mode": {
    "name": "ipython",
    "version": 3
   },
   "file_extension": ".py",
   "mimetype": "text/x-python",
   "name": "python",
   "nbconvert_exporter": "python",
   "pygments_lexer": "ipython3",
   "version": "3.11.5"
  }
 },
 "nbformat": 4,
 "nbformat_minor": 5
}
